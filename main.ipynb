{
 "cells": [
  {
   "cell_type": "code",
   "execution_count": null,
   "metadata": {},
   "outputs": [],
   "source": [
    "# Tratamiento de datos\n",
    "import numpy as np\n",
    "import pandas as pd\n",
    "\n",
    "\n",
    "# Gráficos\n",
    "import matplotlib.pyplot as plt\n",
    "from matplotlib import style\n",
    "import matplotlib.ticker as ticker\n",
    "import seaborn as sns\n",
    "\n",
    "from scipy import stats\n",
    "import math\n",
    "\n",
    "from sklearn.preprocessing import MinMaxScaler\n",
    "from sklearn.preprocessing import LabelEncoder\n",
    "from sklearn.preprocessing import RobustScaler\n",
    "\n",
    "from sklearn.model_selection import train_test_split\n",
    "#import statsmodels.formula.api as smf\n",
    "\n",
    "\n",
    "from sklearn.linear_model import LinearRegression\n",
    "from sklearn.ensemble import RandomForestRegressor\n",
    "from sklearn.tree import DecisionTreeRegressor \n",
    "from sklearn.model_selection import GridSearchCV\n",
    "from sklearn import tree\n",
    "\n",
    "\n",
    "\n",
    "from sklearn.model_selection import cross_val_score\n",
    "from sklearn.model_selection import cross_validate\n",
    "from sklearn import metrics\n",
    "\n",
    "\n",
    "# Preprocesado y modelado\n",
    "plt.rcParams[\"figure.figsize\"] = (10,8)"
   ]
  },
  {
   "attachments": {},
   "cell_type": "markdown",
   "metadata": {},
   "source": [
    "# input"
   ]
  },
  {
   "cell_type": "code",
   "execution_count": null,
   "metadata": {},
   "outputs": [],
   "source": [
    "columnas = [\"Customer_Number\", \n",
    "            \"Offer_Accepted\", \n",
    "            \"Reward\", \n",
    "            \"Mailer_Type\", \n",
    "            \"Income_Level\", \n",
    "            \"Bank_Accounts_Open\",\n",
    "            \"Overdraft_Protection\",\n",
    "            \"Credit_Rating\",\n",
    "            \"Credit_Cards_Held\",\n",
    "            \"Homes_Owned\",\n",
    "            \"Household_Size\",\n",
    "            \"Own_Your_Home\",\n",
    "            \"AVG_Balance_Q1\",\n",
    "            \"AVG_Balance_Q2\",\n",
    "            \"AVG_Balance_Q3\",\n",
    "            \"AVG_Balance_Q4\",\n",
    "            \"Balance\"\n",
    "            ]"
   ]
  },
  {
   "cell_type": "code",
   "execution_count": null,
   "metadata": {},
   "outputs": [],
   "source": [
    "df = pd.read_csv('datos/creditcardmarketing.csv', header = None,\n",
    "                 names=columnas)\n",
    "df.head(1)"
   ]
  },
  {
   "attachments": {},
   "cell_type": "markdown",
   "metadata": {},
   "source": [
    "# EDA\n",
    "1. ver que tengo en el df y los tipos"
   ]
  },
  {
   "cell_type": "code",
   "execution_count": null,
   "metadata": {},
   "outputs": [],
   "source": [
    "df.info()"
   ]
  },
  {
   "cell_type": "code",
   "execution_count": null,
   "metadata": {},
   "outputs": [],
   "source": [
    "df.describe().T"
   ]
  },
  {
   "cell_type": "code",
   "execution_count": null,
   "metadata": {},
   "outputs": [],
   "source": [
    "df.describe(include='object').T"
   ]
  },
  {
   "attachments": {},
   "cell_type": "markdown",
   "metadata": {},
   "source": [
    "- variables continuas:\n",
    "    - `Offer_Accepted` -> booleana, es la variable respuesta\n",
    "    - `Reward` -> categórica, son tres tipos: \n",
    "        - 'Air Miles'\n",
    "        - 'Cash Back' \n",
    "        - 'Points'\n",
    "    - `Mailer_Type`-> categórica, dos tipos:\n",
    "        - 'Postcard' \n",
    "        - 'Letter'\n",
    "    - `Income_Level` -> categórcia, dos tipos:\n",
    "        - Medium\n",
    "        - High\n",
    "        - Low\n",
    "    - `Overdraft_Protection` -> booleana\n",
    "    - `Credit_Rating` -> categórica, tres variables:\n",
    "        - Medium\n",
    "        - High\n",
    "        - Low\n",
    "    - `Own_Your_Home`-> booleana\n",
    "- variable numérica:\n",
    "    - `Customer_Number` -> continua\n",
    "    - `Bank_Accounts_Open` -> discreta\n",
    "    - `Credit_Cards_Held` -> discreta\n",
    "    - `Homes_Owned` -> discreta\n",
    "    - `Household_Size` ->discreta\n",
    "    - `AVG_Balance_Q1` -> continua\n",
    "    - `AVG_Balance_Q2` -> continua\n",
    "    - `AVG_Balance_Q3` -> continua\n",
    "    - `AVG_Balance_Q4` -> continua\n",
    "    - `Balance` -> continua"
   ]
  },
  {
   "attachments": {},
   "cell_type": "markdown",
   "metadata": {},
   "source": [
    "2. número de nulos en el dataset"
   ]
  },
  {
   "cell_type": "code",
   "execution_count": null,
   "metadata": {},
   "outputs": [],
   "source": [
    "df.isnull().sum() / df.shape[0]"
   ]
  },
  {
   "attachments": {},
   "cell_type": "markdown",
   "metadata": {},
   "source": [
    "3. check valores duplicados"
   ]
  },
  {
   "cell_type": "code",
   "execution_count": null,
   "metadata": {},
   "outputs": [],
   "source": [
    "df.duplicated().sum() / df.shape[0]"
   ]
  },
  {
   "attachments": {},
   "cell_type": "markdown",
   "metadata": {},
   "source": [
    "## variables continuas"
   ]
  },
  {
   "cell_type": "code",
   "execution_count": 10,
   "metadata": {},
   "outputs": [],
   "source": [
    "# Gráfico de distribución para cada variable numérica\n",
    "# ==============================================================================\n",
    "\n",
    "fig, axes = plt.subplots(nrows = 5, ncols = 2, figsize = (30, 75))\n",
    "\n",
    "axes = axes.flat\n",
    "\n",
    "columnas_numeric = df.select_dtypes(include = np.number).drop(['Customer_Number'], axis = 1).columns\n",
    "\n",
    "for i, colum in enumerate(columnas_numeric): \n",
    "    sns.histplot(\n",
    "        data = df,\n",
    "        x = colum,\n",
    "        kde = True, \n",
    "        line_kws = {\"linewidth\": 2}, \n",
    "        alpha = 0.2, \n",
    "        ax = axes[i],\n",
    "        hue = df['Offer_Accepted']\n",
    "        )\n",
    "    \n",
    "    \n",
    "    axes[i].set_title(colum, fontsize = 15, fontweight = \"bold\")\n",
    "    axes[i].tick_params(labelsize = 20)\n",
    "    axes[i].set_xlabel(\"\")\n",
    "    \n",
    "\n",
    "fig.tight_layout();# Gráfico de distribución para cada variable numérica"
   ]
  },
  {
   "cell_type": "code",
   "execution_count": null,
   "metadata": {},
   "outputs": [],
   "source": [
    "# Gráfico de relación entre variables predictoras y la variable a predecir\n",
    "# ==============================================================================\n",
    "\n",
    "fig, axes = plt.subplots(nrows = 2, ncols = 3, figsize = (30, 10))\n",
    "\n",
    "axes = axes.flat\n",
    "\n",
    "columnas_numeric = df.select_dtypes(include = \"object\").drop(['Offer_Accepted', 'Overdraft_Protection', 'Own_Your_Home']).columns\n",
    "\n",
    "for i, colum in enumerate(columnas_numeric):\n",
    "    sns.countplot(\n",
    "                x = df[colum], \n",
    "                ax = axes[i])\n",
    "\n",
    "fig.tight_layout();"
   ]
  },
  {
   "attachments": {},
   "cell_type": "markdown",
   "metadata": {},
   "source": [
    "# gestión nulos"
   ]
  },
  {
   "attachments": {},
   "cell_type": "markdown",
   "metadata": {},
   "source": [
    "# gestión outliers"
   ]
  },
  {
   "cell_type": "code",
   "execution_count": null,
   "metadata": {},
   "outputs": [],
   "source": []
  },
  {
   "cell_type": "code",
   "execution_count": null,
   "metadata": {},
   "outputs": [],
   "source": []
  },
  {
   "cell_type": "code",
   "execution_count": null,
   "metadata": {},
   "outputs": [],
   "source": []
  },
  {
   "cell_type": "code",
   "execution_count": null,
   "metadata": {},
   "outputs": [],
   "source": []
  },
  {
   "cell_type": "code",
   "execution_count": null,
   "metadata": {},
   "outputs": [],
   "source": []
  },
  {
   "cell_type": "code",
   "execution_count": null,
   "metadata": {},
   "outputs": [],
   "source": []
  },
  {
   "cell_type": "code",
   "execution_count": null,
   "metadata": {},
   "outputs": [],
   "source": []
  },
  {
   "cell_type": "code",
   "execution_count": null,
   "metadata": {},
   "outputs": [],
   "source": []
  }
 ],
 "metadata": {
  "kernelspec": {
   "display_name": "iron",
   "language": "python",
   "name": "python3"
  },
  "language_info": {
   "codemirror_mode": {
    "name": "ipython",
    "version": 3
   },
   "file_extension": ".py",
   "mimetype": "text/x-python",
   "name": "python",
   "nbconvert_exporter": "python",
   "pygments_lexer": "ipython3",
   "version": "3.11.0"
  },
  "orig_nbformat": 4
 },
 "nbformat": 4,
 "nbformat_minor": 2
}
