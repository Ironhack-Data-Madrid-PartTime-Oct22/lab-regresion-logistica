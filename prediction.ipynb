{
 "cells": [
  {
   "cell_type": "code",
   "execution_count": 241,
   "metadata": {},
   "outputs": [],
   "source": [
    "import pandas as pd\n",
    "import numpy as np\n",
    "import sidetable\n",
    "import matplotlib.pyplot as plt\n",
    "import seaborn as sns\n",
    "\n",
    "from sklearn.impute import SimpleImputer\n",
    "from sklearn.experimental import enable_iterative_imputer\n",
    "from sklearn.impute import IterativeImputer\n",
    "from sklearn.impute import KNNImputer\n",
    "\n",
    "from sklearn.preprocessing import LabelEncoder \n",
    "from sklearn.preprocessing import OneHotEncoder  \n",
    "from sklearn.preprocessing import OrdinalEncoder\n",
    "\n",
    "from sklearn.preprocessing import RobustScaler\n",
    "\n",
    "from imblearn.under_sampling import RandomUnderSampler\n",
    "from imblearn.over_sampling import RandomOverSampler\n",
    "\n",
    "from sklearn.model_selection import train_test_split\n",
    "\n",
    "from sklearn.linear_model import LogisticRegression\n",
    "from sklearn.ensemble import RandomForestClassifier\n",
    "from sklearn.tree import DecisionTreeClassifier\n",
    "from sklearn.model_selection import cross_val_score\n",
    "from sklearn.neighbors import KNeighborsClassifier\n",
    "from sklearn.ensemble import GradientBoostingClassifier\n",
    "from sklearn.preprocessing import StandardScaler\n",
    "from sklearn.model_selection import GridSearchCV\n",
    "from sklearn import tree\n",
    "\n",
    "from sklearn.metrics import confusion_matrix\n",
    "from sklearn.metrics import accuracy_score \n",
    "from sklearn.metrics import precision_score \n",
    "from sklearn.metrics import recall_score \n",
    "from sklearn.metrics import f1_score \n",
    "from sklearn.metrics import cohen_kappa_score"
   ]
  },
  {
   "cell_type": "code",
   "execution_count": 242,
   "metadata": {},
   "outputs": [],
   "source": [
    "import sys \n",
    "sys.path.append(\"src\")\n",
    "import src.support as sp"
   ]
  },
  {
   "cell_type": "code",
   "execution_count": 243,
   "metadata": {},
   "outputs": [
    {
     "data": {
      "text/html": [
       "<div>\n",
       "<style scoped>\n",
       "    .dataframe tbody tr th:only-of-type {\n",
       "        vertical-align: middle;\n",
       "    }\n",
       "\n",
       "    .dataframe tbody tr th {\n",
       "        vertical-align: top;\n",
       "    }\n",
       "\n",
       "    .dataframe thead th {\n",
       "        text-align: right;\n",
       "    }\n",
       "</style>\n",
       "<table border=\"1\" class=\"dataframe\">\n",
       "  <thead>\n",
       "    <tr style=\"text-align: right;\">\n",
       "      <th></th>\n",
       "      <th>Customer_Number</th>\n",
       "      <th>Offer_Accepted</th>\n",
       "      <th>Reward</th>\n",
       "      <th>Mailer_Type</th>\n",
       "      <th>Income_Level</th>\n",
       "      <th>Bank_Accounts_Open</th>\n",
       "      <th>Overdraft_Protection</th>\n",
       "      <th>Credit_Rating</th>\n",
       "      <th>Credit_Cards_Held</th>\n",
       "      <th>Homes_Owned</th>\n",
       "      <th>Household_Size</th>\n",
       "      <th>Own_Your_Home</th>\n",
       "      <th>Average_Balance_Q1</th>\n",
       "      <th>Average_Balance_Q2</th>\n",
       "      <th>Average_Balance_Q3</th>\n",
       "      <th>Average_Balance_Q4</th>\n",
       "      <th>Balance</th>\n",
       "    </tr>\n",
       "  </thead>\n",
       "  <tbody>\n",
       "    <tr>\n",
       "      <th>0</th>\n",
       "      <td>1</td>\n",
       "      <td>No</td>\n",
       "      <td>Air Miles</td>\n",
       "      <td>Letter</td>\n",
       "      <td>High</td>\n",
       "      <td>1</td>\n",
       "      <td>No</td>\n",
       "      <td>High</td>\n",
       "      <td>2</td>\n",
       "      <td>1</td>\n",
       "      <td>4</td>\n",
       "      <td>No</td>\n",
       "      <td>1160.75</td>\n",
       "      <td>1669.0</td>\n",
       "      <td>877.0</td>\n",
       "      <td>1095.0</td>\n",
       "      <td>1002.0</td>\n",
       "    </tr>\n",
       "    <tr>\n",
       "      <th>1</th>\n",
       "      <td>2</td>\n",
       "      <td>No</td>\n",
       "      <td>Air Miles</td>\n",
       "      <td>Letter</td>\n",
       "      <td>Medium</td>\n",
       "      <td>1</td>\n",
       "      <td>No</td>\n",
       "      <td>Medium</td>\n",
       "      <td>2</td>\n",
       "      <td>2</td>\n",
       "      <td>5</td>\n",
       "      <td>Yes</td>\n",
       "      <td>147.25</td>\n",
       "      <td>39.0</td>\n",
       "      <td>106.0</td>\n",
       "      <td>78.0</td>\n",
       "      <td>366.0</td>\n",
       "    </tr>\n",
       "    <tr>\n",
       "      <th>2</th>\n",
       "      <td>3</td>\n",
       "      <td>No</td>\n",
       "      <td>Air Miles</td>\n",
       "      <td>Postcard</td>\n",
       "      <td>High</td>\n",
       "      <td>2</td>\n",
       "      <td>No</td>\n",
       "      <td>Medium</td>\n",
       "      <td>2</td>\n",
       "      <td>1</td>\n",
       "      <td>2</td>\n",
       "      <td>Yes</td>\n",
       "      <td>276.50</td>\n",
       "      <td>367.0</td>\n",
       "      <td>352.0</td>\n",
       "      <td>145.0</td>\n",
       "      <td>242.0</td>\n",
       "    </tr>\n",
       "  </tbody>\n",
       "</table>\n",
       "</div>"
      ],
      "text/plain": [
       "   Customer_Number Offer_Accepted     Reward Mailer_Type Income_Level  \\\n",
       "0                1             No  Air Miles      Letter         High   \n",
       "1                2             No  Air Miles      Letter       Medium   \n",
       "2                3             No  Air Miles    Postcard         High   \n",
       "\n",
       "   Bank_Accounts_Open Overdraft_Protection Credit_Rating  Credit_Cards_Held  \\\n",
       "0                   1                   No          High                  2   \n",
       "1                   1                   No        Medium                  2   \n",
       "2                   2                   No        Medium                  2   \n",
       "\n",
       "   Homes_Owned  Household_Size Own_Your_Home  Average_Balance_Q1  \\\n",
       "0            1               4            No             1160.75   \n",
       "1            2               5           Yes              147.25   \n",
       "2            1               2           Yes              276.50   \n",
       "\n",
       "   Average_Balance_Q2  Average_Balance_Q3  Average_Balance_Q4  Balance  \n",
       "0              1669.0               877.0              1095.0   1002.0  \n",
       "1                39.0               106.0                78.0    366.0  \n",
       "2               367.0               352.0               145.0    242.0  "
      ]
     },
     "execution_count": 243,
     "metadata": {},
     "output_type": "execute_result"
    }
   ],
   "source": [
    "pd.options.display.max_columns = None\n",
    "\n",
    "df = pd.read_csv(\"datos/creditcardmarketing.csv\", header= None)\n",
    "col = [\"Customer_Number\",\"Offer_Accepted\",\"Reward\",\n",
    "       \"Mailer_Type\",\"Income_Level\",\"Bank_Accounts_Open\",\n",
    "       \"Overdraft_Protection\",\"Credit_Rating\",\"Credit_Cards_Held\",\n",
    "       \"Homes_Owned\",\"Household_Size\",\"Own_Your_Home\",\"Average_Balance_Q1\",\n",
    "       \"Average_Balance_Q2\",\"Average_Balance_Q3\",\"Average_Balance_Q4\",\"Balance\"]\n",
    "\n",
    "df.columns = col\n",
    "df.head(3)"
   ]
  },
  {
   "cell_type": "code",
   "execution_count": 244,
   "metadata": {},
   "outputs": [
    {
     "data": {
      "text/html": [
       "<div>\n",
       "<style scoped>\n",
       "    .dataframe tbody tr th:only-of-type {\n",
       "        vertical-align: middle;\n",
       "    }\n",
       "\n",
       "    .dataframe tbody tr th {\n",
       "        vertical-align: top;\n",
       "    }\n",
       "\n",
       "    .dataframe thead th {\n",
       "        text-align: right;\n",
       "    }\n",
       "</style>\n",
       "<table border=\"1\" class=\"dataframe\">\n",
       "  <thead>\n",
       "    <tr style=\"text-align: right;\">\n",
       "      <th></th>\n",
       "      <th>count</th>\n",
       "      <th>mean</th>\n",
       "      <th>std</th>\n",
       "      <th>min</th>\n",
       "      <th>25%</th>\n",
       "      <th>50%</th>\n",
       "      <th>75%</th>\n",
       "      <th>max</th>\n",
       "    </tr>\n",
       "  </thead>\n",
       "  <tbody>\n",
       "    <tr>\n",
       "      <th>Customer_Number</th>\n",
       "      <td>18000.0</td>\n",
       "      <td>9000.500000</td>\n",
       "      <td>5196.296758</td>\n",
       "      <td>1.00</td>\n",
       "      <td>4500.75</td>\n",
       "      <td>9000.5</td>\n",
       "      <td>13500.25</td>\n",
       "      <td>18000.00</td>\n",
       "    </tr>\n",
       "    <tr>\n",
       "      <th>Bank_Accounts_Open</th>\n",
       "      <td>18000.0</td>\n",
       "      <td>1.255778</td>\n",
       "      <td>0.472501</td>\n",
       "      <td>1.00</td>\n",
       "      <td>1.00</td>\n",
       "      <td>1.0</td>\n",
       "      <td>1.00</td>\n",
       "      <td>3.00</td>\n",
       "    </tr>\n",
       "    <tr>\n",
       "      <th>Credit_Cards_Held</th>\n",
       "      <td>18000.0</td>\n",
       "      <td>1.903500</td>\n",
       "      <td>0.797009</td>\n",
       "      <td>1.00</td>\n",
       "      <td>1.00</td>\n",
       "      <td>2.0</td>\n",
       "      <td>2.00</td>\n",
       "      <td>4.00</td>\n",
       "    </tr>\n",
       "    <tr>\n",
       "      <th>Homes_Owned</th>\n",
       "      <td>18000.0</td>\n",
       "      <td>1.203444</td>\n",
       "      <td>0.427341</td>\n",
       "      <td>1.00</td>\n",
       "      <td>1.00</td>\n",
       "      <td>1.0</td>\n",
       "      <td>1.00</td>\n",
       "      <td>3.00</td>\n",
       "    </tr>\n",
       "    <tr>\n",
       "      <th>Household_Size</th>\n",
       "      <td>18000.0</td>\n",
       "      <td>3.499056</td>\n",
       "      <td>1.114182</td>\n",
       "      <td>1.00</td>\n",
       "      <td>3.00</td>\n",
       "      <td>3.0</td>\n",
       "      <td>4.00</td>\n",
       "      <td>9.00</td>\n",
       "    </tr>\n",
       "    <tr>\n",
       "      <th>Average_Balance_Q1</th>\n",
       "      <td>17976.0</td>\n",
       "      <td>940.515562</td>\n",
       "      <td>350.297837</td>\n",
       "      <td>48.25</td>\n",
       "      <td>787.50</td>\n",
       "      <td>1007.0</td>\n",
       "      <td>1153.25</td>\n",
       "      <td>3366.25</td>\n",
       "    </tr>\n",
       "    <tr>\n",
       "      <th>Average_Balance_Q2</th>\n",
       "      <td>17976.0</td>\n",
       "      <td>910.450656</td>\n",
       "      <td>620.077060</td>\n",
       "      <td>0.00</td>\n",
       "      <td>392.75</td>\n",
       "      <td>772.0</td>\n",
       "      <td>1521.00</td>\n",
       "      <td>3450.00</td>\n",
       "    </tr>\n",
       "    <tr>\n",
       "      <th>Average_Balance_Q3</th>\n",
       "      <td>17976.0</td>\n",
       "      <td>999.392190</td>\n",
       "      <td>457.402268</td>\n",
       "      <td>0.00</td>\n",
       "      <td>663.00</td>\n",
       "      <td>1032.0</td>\n",
       "      <td>1342.00</td>\n",
       "      <td>3421.00</td>\n",
       "    </tr>\n",
       "    <tr>\n",
       "      <th>Average_Balance_Q4</th>\n",
       "      <td>17976.0</td>\n",
       "      <td>1042.033600</td>\n",
       "      <td>553.452599</td>\n",
       "      <td>0.00</td>\n",
       "      <td>633.00</td>\n",
       "      <td>945.5</td>\n",
       "      <td>1463.00</td>\n",
       "      <td>3823.00</td>\n",
       "    </tr>\n",
       "    <tr>\n",
       "      <th>Balance</th>\n",
       "      <td>17976.0</td>\n",
       "      <td>810.185803</td>\n",
       "      <td>559.001365</td>\n",
       "      <td>0.00</td>\n",
       "      <td>363.00</td>\n",
       "      <td>703.0</td>\n",
       "      <td>1212.00</td>\n",
       "      <td>4215.00</td>\n",
       "    </tr>\n",
       "  </tbody>\n",
       "</table>\n",
       "</div>"
      ],
      "text/plain": [
       "                      count         mean          std    min      25%     50%  \\\n",
       "Customer_Number     18000.0  9000.500000  5196.296758   1.00  4500.75  9000.5   \n",
       "Bank_Accounts_Open  18000.0     1.255778     0.472501   1.00     1.00     1.0   \n",
       "Credit_Cards_Held   18000.0     1.903500     0.797009   1.00     1.00     2.0   \n",
       "Homes_Owned         18000.0     1.203444     0.427341   1.00     1.00     1.0   \n",
       "Household_Size      18000.0     3.499056     1.114182   1.00     3.00     3.0   \n",
       "Average_Balance_Q1  17976.0   940.515562   350.297837  48.25   787.50  1007.0   \n",
       "Average_Balance_Q2  17976.0   910.450656   620.077060   0.00   392.75   772.0   \n",
       "Average_Balance_Q3  17976.0   999.392190   457.402268   0.00   663.00  1032.0   \n",
       "Average_Balance_Q4  17976.0  1042.033600   553.452599   0.00   633.00   945.5   \n",
       "Balance             17976.0   810.185803   559.001365   0.00   363.00   703.0   \n",
       "\n",
       "                         75%       max  \n",
       "Customer_Number     13500.25  18000.00  \n",
       "Bank_Accounts_Open      1.00      3.00  \n",
       "Credit_Cards_Held       2.00      4.00  \n",
       "Homes_Owned             1.00      3.00  \n",
       "Household_Size          4.00      9.00  \n",
       "Average_Balance_Q1   1153.25   3366.25  \n",
       "Average_Balance_Q2   1521.00   3450.00  \n",
       "Average_Balance_Q3   1342.00   3421.00  \n",
       "Average_Balance_Q4   1463.00   3823.00  \n",
       "Balance              1212.00   4215.00  "
      ]
     },
     "execution_count": 244,
     "metadata": {},
     "output_type": "execute_result"
    }
   ],
   "source": [
    "df.select_dtypes(include = np.number).describe().T"
   ]
  },
  {
   "attachments": {},
   "cell_type": "markdown",
   "metadata": {},
   "source": [
    "### 1. Gestión de nulos"
   ]
  },
  {
   "attachments": {},
   "cell_type": "markdown",
   "metadata": {},
   "source": [
    "Podemos observar que los nulos de nuestro df se encuentran en las columnas de Balance. Vamos a crear 3 copias de nuestro df para, utilizando la clase Gestion_nulos, ver que método de reemplazo desvía menos la media respecto al df inicial."
   ]
  },
  {
   "cell_type": "code",
   "execution_count": 245,
   "metadata": {},
   "outputs": [
    {
     "data": {
      "text/plain": [
       "Customer_Number          0\n",
       "Offer_Accepted           0\n",
       "Reward                   0\n",
       "Mailer_Type              0\n",
       "Income_Level             0\n",
       "Bank_Accounts_Open       0\n",
       "Overdraft_Protection     0\n",
       "Credit_Rating            0\n",
       "Credit_Cards_Held        0\n",
       "Homes_Owned              0\n",
       "Household_Size           0\n",
       "Own_Your_Home            0\n",
       "Average_Balance_Q1      24\n",
       "Average_Balance_Q2      24\n",
       "Average_Balance_Q3      24\n",
       "Average_Balance_Q4      24\n",
       "Balance                 24\n",
       "dtype: int64"
      ]
     },
     "execution_count": 245,
     "metadata": {},
     "output_type": "execute_result"
    }
   ],
   "source": [
    "df.isnull().sum()"
   ]
  },
  {
   "cell_type": "code",
   "execution_count": 246,
   "metadata": {},
   "outputs": [],
   "source": [
    "df_pr1= df.copy()\n",
    "df_pr2= df.copy()\n",
    "df_pr3= df.copy()"
   ]
  },
  {
   "cell_type": "code",
   "execution_count": 247,
   "metadata": {},
   "outputs": [
    {
     "data": {
      "text/plain": [
       "Customer_Number       0.000000\n",
       "Bank_Accounts_Open    0.000000\n",
       "Credit_Cards_Held     0.000000\n",
       "Homes_Owned           0.000000\n",
       "Household_Size        0.000000\n",
       "Average_Balance_Q1   -0.088646\n",
       "Average_Balance_Q2    0.184601\n",
       "Average_Balance_Q3   -0.043477\n",
       "Average_Balance_Q4    0.128711\n",
       "Balance               0.142914\n",
       "Name: mean, dtype: float64"
      ]
     },
     "execution_count": 247,
     "metadata": {},
     "output_type": "execute_result"
    }
   ],
   "source": [
    "# Gestión nulos simple imputer\n",
    "\n",
    "lista_col = ['Average_Balance_Q1','Average_Balance_Q2','Average_Balance_Q3','Average_Balance_Q4', 'Balance']\n",
    "\n",
    "sp.Gestion_nulos(df_pr1).simple_imputer_method(lista_col, 'median', np.nan)"
   ]
  },
  {
   "cell_type": "code",
   "execution_count": 248,
   "metadata": {},
   "outputs": [
    {
     "data": {
      "text/plain": [
       "Customer_Number       0.000000e+00\n",
       "Bank_Accounts_Open    0.000000e+00\n",
       "Credit_Cards_Held     0.000000e+00\n",
       "Homes_Owned           0.000000e+00\n",
       "Household_Size        0.000000e+00\n",
       "Average_Balance_Q1   -3.410605e-13\n",
       "Average_Balance_Q2    2.273737e-13\n",
       "Average_Balance_Q3   -1.136868e-13\n",
       "Average_Balance_Q4   -2.273737e-13\n",
       "Balance              -4.547474e-13\n",
       "Name: mean, dtype: float64"
      ]
     },
     "execution_count": 248,
     "metadata": {},
     "output_type": "execute_result"
    }
   ],
   "source": [
    "# Gestión nulos interative imputer\n",
    "\n",
    "sp.Gestion_nulos(df_pr2).iterative_imputer_method()"
   ]
  },
  {
   "cell_type": "code",
   "execution_count": 249,
   "metadata": {},
   "outputs": [
    {
     "data": {
      "text/plain": [
       "Customer_Number       0.000000\n",
       "Bank_Accounts_Open    0.000000\n",
       "Credit_Cards_Held     0.000000\n",
       "Homes_Owned           0.000000\n",
       "Household_Size        0.000000\n",
       "Average_Balance_Q1   -0.085751\n",
       "Average_Balance_Q2   -0.090966\n",
       "Average_Balance_Q3   -0.119999\n",
       "Average_Balance_Q4   -0.083911\n",
       "Balance              -0.048130\n",
       "Name: mean, dtype: float64"
      ]
     },
     "execution_count": 249,
     "metadata": {},
     "output_type": "execute_result"
    }
   ],
   "source": [
    "# Gestión nulos KNN imputer\n",
    "\n",
    "sp.Gestion_nulos(df_pr3).knn_imputer_method(5)"
   ]
  },
  {
   "attachments": {},
   "cell_type": "markdown",
   "metadata": {},
   "source": [
    "El método de reemplazo de nulos que menos afecta a la media es el iterative imputer, por lo que lo aplicaremos a nuestro df."
   ]
  },
  {
   "cell_type": "code",
   "execution_count": 250,
   "metadata": {},
   "outputs": [
    {
     "data": {
      "text/plain": [
       "Customer_Number       0.000000e+00\n",
       "Bank_Accounts_Open    0.000000e+00\n",
       "Credit_Cards_Held     0.000000e+00\n",
       "Homes_Owned           0.000000e+00\n",
       "Household_Size        0.000000e+00\n",
       "Average_Balance_Q1   -3.410605e-13\n",
       "Average_Balance_Q2    2.273737e-13\n",
       "Average_Balance_Q3   -1.136868e-13\n",
       "Average_Balance_Q4   -2.273737e-13\n",
       "Balance              -4.547474e-13\n",
       "Name: mean, dtype: float64"
      ]
     },
     "execution_count": 250,
     "metadata": {},
     "output_type": "execute_result"
    }
   ],
   "source": [
    "sp.Gestion_nulos(df).iterative_imputer_method()"
   ]
  },
  {
   "cell_type": "code",
   "execution_count": 251,
   "metadata": {},
   "outputs": [
    {
     "data": {
      "text/plain": [
       "Offer_Accepted          0\n",
       "Reward                  0\n",
       "Mailer_Type             0\n",
       "Income_Level            0\n",
       "Overdraft_Protection    0\n",
       "Credit_Rating           0\n",
       "Own_Your_Home           0\n",
       "Customer_Number         0\n",
       "Bank_Accounts_Open      0\n",
       "Credit_Cards_Held       0\n",
       "Homes_Owned             0\n",
       "Household_Size          0\n",
       "Average_Balance_Q1      0\n",
       "Average_Balance_Q2      0\n",
       "Average_Balance_Q3      0\n",
       "Average_Balance_Q4      0\n",
       "Balance                 0\n",
       "dtype: int64"
      ]
     },
     "execution_count": 251,
     "metadata": {},
     "output_type": "execute_result"
    }
   ],
   "source": [
    "df.isnull().sum()"
   ]
  },
  {
   "attachments": {},
   "cell_type": "markdown",
   "metadata": {},
   "source": [
    "### 2. Gestión de outliers"
   ]
  },
  {
   "attachments": {},
   "cell_type": "markdown",
   "metadata": {},
   "source": [
    "En average balance Q1 encontramos muchos outliers tanto a la alza como a la baja, asumimos que se trata de un momento en el que se dan numerosas regulaciones así como gastos e ingresos extraordinarios para particulares, por lo que no vamos a tratar esta columna. Si en el cálculo del outlier step aumentamos la cifra por la que multiplicamos el IQR y englobamos los grandes grupos de outliers (más cercanos a los bigotes) tanto a la alza como a la baja, podemos observar que los outliers restantes son aquellos que corresponden a rentas elevadas y que se corrigen al procesar el resto de las columnas de balance (en los decribe vemos como los máximos de balance pasan en todos los casos de +3k a un máx de 2.5k modificando tan sólo 10 valores)"
   ]
  },
  {
   "cell_type": "code",
   "execution_count": 252,
   "metadata": {},
   "outputs": [
    {
     "data": {
      "text/html": [
       "<div>\n",
       "<style scoped>\n",
       "    .dataframe tbody tr th:only-of-type {\n",
       "        vertical-align: middle;\n",
       "    }\n",
       "\n",
       "    .dataframe tbody tr th {\n",
       "        vertical-align: top;\n",
       "    }\n",
       "\n",
       "    .dataframe thead th {\n",
       "        text-align: right;\n",
       "    }\n",
       "</style>\n",
       "<table border=\"1\" class=\"dataframe\">\n",
       "  <thead>\n",
       "    <tr style=\"text-align: right;\">\n",
       "      <th></th>\n",
       "      <th>count</th>\n",
       "      <th>mean</th>\n",
       "      <th>std</th>\n",
       "      <th>min</th>\n",
       "      <th>25%</th>\n",
       "      <th>50%</th>\n",
       "      <th>75%</th>\n",
       "      <th>max</th>\n",
       "    </tr>\n",
       "  </thead>\n",
       "  <tbody>\n",
       "    <tr>\n",
       "      <th>Customer_Number</th>\n",
       "      <td>18000.0</td>\n",
       "      <td>9000.500000</td>\n",
       "      <td>5196.296758</td>\n",
       "      <td>1.00</td>\n",
       "      <td>4500.7500</td>\n",
       "      <td>9000.5</td>\n",
       "      <td>13500.2500</td>\n",
       "      <td>18000.00</td>\n",
       "    </tr>\n",
       "    <tr>\n",
       "      <th>Bank_Accounts_Open</th>\n",
       "      <td>18000.0</td>\n",
       "      <td>1.255778</td>\n",
       "      <td>0.472501</td>\n",
       "      <td>1.00</td>\n",
       "      <td>1.0000</td>\n",
       "      <td>1.0</td>\n",
       "      <td>1.0000</td>\n",
       "      <td>3.00</td>\n",
       "    </tr>\n",
       "    <tr>\n",
       "      <th>Credit_Cards_Held</th>\n",
       "      <td>18000.0</td>\n",
       "      <td>1.903500</td>\n",
       "      <td>0.797009</td>\n",
       "      <td>1.00</td>\n",
       "      <td>1.0000</td>\n",
       "      <td>2.0</td>\n",
       "      <td>2.0000</td>\n",
       "      <td>4.00</td>\n",
       "    </tr>\n",
       "    <tr>\n",
       "      <th>Homes_Owned</th>\n",
       "      <td>18000.0</td>\n",
       "      <td>1.203444</td>\n",
       "      <td>0.427341</td>\n",
       "      <td>1.00</td>\n",
       "      <td>1.0000</td>\n",
       "      <td>1.0</td>\n",
       "      <td>1.0000</td>\n",
       "      <td>3.00</td>\n",
       "    </tr>\n",
       "    <tr>\n",
       "      <th>Household_Size</th>\n",
       "      <td>18000.0</td>\n",
       "      <td>3.499056</td>\n",
       "      <td>1.114182</td>\n",
       "      <td>1.00</td>\n",
       "      <td>3.0000</td>\n",
       "      <td>3.0</td>\n",
       "      <td>4.0000</td>\n",
       "      <td>9.00</td>\n",
       "    </tr>\n",
       "    <tr>\n",
       "      <th>Average_Balance_Q1</th>\n",
       "      <td>18000.0</td>\n",
       "      <td>940.515562</td>\n",
       "      <td>350.064214</td>\n",
       "      <td>48.25</td>\n",
       "      <td>787.9375</td>\n",
       "      <td>1006.5</td>\n",
       "      <td>1152.5625</td>\n",
       "      <td>3366.25</td>\n",
       "    </tr>\n",
       "    <tr>\n",
       "      <th>Average_Balance_Q2</th>\n",
       "      <td>18000.0</td>\n",
       "      <td>910.450656</td>\n",
       "      <td>619.663515</td>\n",
       "      <td>0.00</td>\n",
       "      <td>393.0000</td>\n",
       "      <td>773.0</td>\n",
       "      <td>1520.2500</td>\n",
       "      <td>3450.00</td>\n",
       "    </tr>\n",
       "    <tr>\n",
       "      <th>Average_Balance_Q3</th>\n",
       "      <td>18000.0</td>\n",
       "      <td>999.392190</td>\n",
       "      <td>457.097214</td>\n",
       "      <td>0.00</td>\n",
       "      <td>664.0000</td>\n",
       "      <td>1032.0</td>\n",
       "      <td>1342.0000</td>\n",
       "      <td>3421.00</td>\n",
       "    </tr>\n",
       "    <tr>\n",
       "      <th>Average_Balance_Q4</th>\n",
       "      <td>18000.0</td>\n",
       "      <td>1042.033600</td>\n",
       "      <td>553.083487</td>\n",
       "      <td>0.00</td>\n",
       "      <td>633.0000</td>\n",
       "      <td>946.0</td>\n",
       "      <td>1462.0000</td>\n",
       "      <td>3823.00</td>\n",
       "    </tr>\n",
       "    <tr>\n",
       "      <th>Balance</th>\n",
       "      <td>18000.0</td>\n",
       "      <td>810.185803</td>\n",
       "      <td>558.628553</td>\n",
       "      <td>0.00</td>\n",
       "      <td>363.7500</td>\n",
       "      <td>704.0</td>\n",
       "      <td>1211.0000</td>\n",
       "      <td>4215.00</td>\n",
       "    </tr>\n",
       "  </tbody>\n",
       "</table>\n",
       "</div>"
      ],
      "text/plain": [
       "                      count         mean          std    min        25%  \\\n",
       "Customer_Number     18000.0  9000.500000  5196.296758   1.00  4500.7500   \n",
       "Bank_Accounts_Open  18000.0     1.255778     0.472501   1.00     1.0000   \n",
       "Credit_Cards_Held   18000.0     1.903500     0.797009   1.00     1.0000   \n",
       "Homes_Owned         18000.0     1.203444     0.427341   1.00     1.0000   \n",
       "Household_Size      18000.0     3.499056     1.114182   1.00     3.0000   \n",
       "Average_Balance_Q1  18000.0   940.515562   350.064214  48.25   787.9375   \n",
       "Average_Balance_Q2  18000.0   910.450656   619.663515   0.00   393.0000   \n",
       "Average_Balance_Q3  18000.0   999.392190   457.097214   0.00   664.0000   \n",
       "Average_Balance_Q4  18000.0  1042.033600   553.083487   0.00   633.0000   \n",
       "Balance             18000.0   810.185803   558.628553   0.00   363.7500   \n",
       "\n",
       "                       50%         75%       max  \n",
       "Customer_Number     9000.5  13500.2500  18000.00  \n",
       "Bank_Accounts_Open     1.0      1.0000      3.00  \n",
       "Credit_Cards_Held      2.0      2.0000      4.00  \n",
       "Homes_Owned            1.0      1.0000      3.00  \n",
       "Household_Size         3.0      4.0000      9.00  \n",
       "Average_Balance_Q1  1006.5   1152.5625   3366.25  \n",
       "Average_Balance_Q2   773.0   1520.2500   3450.00  \n",
       "Average_Balance_Q3  1032.0   1342.0000   3421.00  \n",
       "Average_Balance_Q4   946.0   1462.0000   3823.00  \n",
       "Balance              704.0   1211.0000   4215.00  "
      ]
     },
     "execution_count": 252,
     "metadata": {},
     "output_type": "execute_result"
    }
   ],
   "source": [
    "df.select_dtypes(include = np.number).describe().T"
   ]
  },
  {
   "cell_type": "code",
   "execution_count": 253,
   "metadata": {},
   "outputs": [
    {
     "data": {
      "text/plain": [
       "{'Average_Balance_Q2': [12635],\n",
       " 'Average_Balance_Q3': [2296, 8887, 10576, 12635, 15259],\n",
       " 'Average_Balance_Q4': [2296, 8887, 10576, 12635, 14003, 15608],\n",
       " 'Balance': [2296, 2655, 8777, 12633, 15608]}"
      ]
     },
     "execution_count": 253,
     "metadata": {},
     "output_type": "execute_result"
    }
   ],
   "source": [
    "column_list=[\"Average_Balance_Q2\",\"Average_Balance_Q3\",\"Average_Balance_Q4\",\"Balance\"]\n",
    "\n",
    "sp.Gestion_outliers(df).detectar_outliers_index(column_list)"
   ]
  },
  {
   "cell_type": "code",
   "execution_count": 254,
   "metadata": {},
   "outputs": [],
   "source": [
    "column_list=[\"Average_Balance_Q2\",\"Average_Balance_Q3\",\"Average_Balance_Q4\",\"Balance\"]\n",
    "\n",
    "df_sin_outliers= sp.Gestion_outliers(df).eliminar_outliers(column_list)"
   ]
  },
  {
   "cell_type": "code",
   "execution_count": 255,
   "metadata": {},
   "outputs": [
    {
     "data": {
      "text/html": [
       "<div>\n",
       "<style scoped>\n",
       "    .dataframe tbody tr th:only-of-type {\n",
       "        vertical-align: middle;\n",
       "    }\n",
       "\n",
       "    .dataframe tbody tr th {\n",
       "        vertical-align: top;\n",
       "    }\n",
       "\n",
       "    .dataframe thead th {\n",
       "        text-align: right;\n",
       "    }\n",
       "</style>\n",
       "<table border=\"1\" class=\"dataframe\">\n",
       "  <thead>\n",
       "    <tr style=\"text-align: right;\">\n",
       "      <th></th>\n",
       "      <th>count</th>\n",
       "      <th>mean</th>\n",
       "      <th>std</th>\n",
       "      <th>min</th>\n",
       "      <th>25%</th>\n",
       "      <th>50%</th>\n",
       "      <th>75%</th>\n",
       "      <th>max</th>\n",
       "    </tr>\n",
       "  </thead>\n",
       "  <tbody>\n",
       "    <tr>\n",
       "      <th>Customer_Number</th>\n",
       "      <td>17990.0</td>\n",
       "      <td>8999.758810</td>\n",
       "      <td>5196.553289</td>\n",
       "      <td>1.00</td>\n",
       "      <td>4500.25</td>\n",
       "      <td>8999.50</td>\n",
       "      <td>13499.75</td>\n",
       "      <td>18000.0</td>\n",
       "    </tr>\n",
       "    <tr>\n",
       "      <th>Bank_Accounts_Open</th>\n",
       "      <td>17990.0</td>\n",
       "      <td>1.255809</td>\n",
       "      <td>0.472418</td>\n",
       "      <td>1.00</td>\n",
       "      <td>1.00</td>\n",
       "      <td>1.00</td>\n",
       "      <td>1.00</td>\n",
       "      <td>3.0</td>\n",
       "    </tr>\n",
       "    <tr>\n",
       "      <th>Credit_Cards_Held</th>\n",
       "      <td>17990.0</td>\n",
       "      <td>1.903558</td>\n",
       "      <td>0.797031</td>\n",
       "      <td>1.00</td>\n",
       "      <td>1.00</td>\n",
       "      <td>2.00</td>\n",
       "      <td>2.00</td>\n",
       "      <td>4.0</td>\n",
       "    </tr>\n",
       "    <tr>\n",
       "      <th>Homes_Owned</th>\n",
       "      <td>17990.0</td>\n",
       "      <td>1.203446</td>\n",
       "      <td>0.427356</td>\n",
       "      <td>1.00</td>\n",
       "      <td>1.00</td>\n",
       "      <td>1.00</td>\n",
       "      <td>1.00</td>\n",
       "      <td>3.0</td>\n",
       "    </tr>\n",
       "    <tr>\n",
       "      <th>Household_Size</th>\n",
       "      <td>17990.0</td>\n",
       "      <td>3.499444</td>\n",
       "      <td>1.114030</td>\n",
       "      <td>1.00</td>\n",
       "      <td>3.00</td>\n",
       "      <td>3.00</td>\n",
       "      <td>4.00</td>\n",
       "      <td>9.0</td>\n",
       "    </tr>\n",
       "    <tr>\n",
       "      <th>Average_Balance_Q1</th>\n",
       "      <td>17990.0</td>\n",
       "      <td>939.688487</td>\n",
       "      <td>348.159089</td>\n",
       "      <td>48.25</td>\n",
       "      <td>787.75</td>\n",
       "      <td>1006.25</td>\n",
       "      <td>1152.50</td>\n",
       "      <td>2430.0</td>\n",
       "    </tr>\n",
       "    <tr>\n",
       "      <th>Average_Balance_Q2</th>\n",
       "      <td>17990.0</td>\n",
       "      <td>909.820168</td>\n",
       "      <td>618.954016</td>\n",
       "      <td>0.00</td>\n",
       "      <td>393.00</td>\n",
       "      <td>773.00</td>\n",
       "      <td>1520.00</td>\n",
       "      <td>2435.0</td>\n",
       "    </tr>\n",
       "    <tr>\n",
       "      <th>Average_Balance_Q3</th>\n",
       "      <td>17990.0</td>\n",
       "      <td>998.663002</td>\n",
       "      <td>455.640240</td>\n",
       "      <td>0.00</td>\n",
       "      <td>663.25</td>\n",
       "      <td>1031.00</td>\n",
       "      <td>1341.00</td>\n",
       "      <td>2234.0</td>\n",
       "    </tr>\n",
       "    <tr>\n",
       "      <th>Average_Balance_Q4</th>\n",
       "      <td>17990.0</td>\n",
       "      <td>1041.206437</td>\n",
       "      <td>551.868613</td>\n",
       "      <td>0.00</td>\n",
       "      <td>633.00</td>\n",
       "      <td>946.00</td>\n",
       "      <td>1461.00</td>\n",
       "      <td>2576.0</td>\n",
       "    </tr>\n",
       "    <tr>\n",
       "      <th>Balance</th>\n",
       "      <td>17990.0</td>\n",
       "      <td>809.064339</td>\n",
       "      <td>556.540495</td>\n",
       "      <td>0.00</td>\n",
       "      <td>363.00</td>\n",
       "      <td>703.00</td>\n",
       "      <td>1210.00</td>\n",
       "      <td>2475.0</td>\n",
       "    </tr>\n",
       "  </tbody>\n",
       "</table>\n",
       "</div>"
      ],
      "text/plain": [
       "                      count         mean          std    min      25%  \\\n",
       "Customer_Number     17990.0  8999.758810  5196.553289   1.00  4500.25   \n",
       "Bank_Accounts_Open  17990.0     1.255809     0.472418   1.00     1.00   \n",
       "Credit_Cards_Held   17990.0     1.903558     0.797031   1.00     1.00   \n",
       "Homes_Owned         17990.0     1.203446     0.427356   1.00     1.00   \n",
       "Household_Size      17990.0     3.499444     1.114030   1.00     3.00   \n",
       "Average_Balance_Q1  17990.0   939.688487   348.159089  48.25   787.75   \n",
       "Average_Balance_Q2  17990.0   909.820168   618.954016   0.00   393.00   \n",
       "Average_Balance_Q3  17990.0   998.663002   455.640240   0.00   663.25   \n",
       "Average_Balance_Q4  17990.0  1041.206437   551.868613   0.00   633.00   \n",
       "Balance             17990.0   809.064339   556.540495   0.00   363.00   \n",
       "\n",
       "                        50%       75%      max  \n",
       "Customer_Number     8999.50  13499.75  18000.0  \n",
       "Bank_Accounts_Open     1.00      1.00      3.0  \n",
       "Credit_Cards_Held      2.00      2.00      4.0  \n",
       "Homes_Owned            1.00      1.00      3.0  \n",
       "Household_Size         3.00      4.00      9.0  \n",
       "Average_Balance_Q1  1006.25   1152.50   2430.0  \n",
       "Average_Balance_Q2   773.00   1520.00   2435.0  \n",
       "Average_Balance_Q3  1031.00   1341.00   2234.0  \n",
       "Average_Balance_Q4   946.00   1461.00   2576.0  \n",
       "Balance              703.00   1210.00   2475.0  "
      ]
     },
     "execution_count": 255,
     "metadata": {},
     "output_type": "execute_result"
    }
   ],
   "source": [
    "df_sin_outliers.select_dtypes(include = np.number).describe().T"
   ]
  },
  {
   "attachments": {},
   "cell_type": "markdown",
   "metadata": {},
   "source": [
    "### 3. Encoding"
   ]
  },
  {
   "cell_type": "code",
   "execution_count": 256,
   "metadata": {},
   "outputs": [
    {
     "data": {
      "text/html": [
       "<div>\n",
       "<style scoped>\n",
       "    .dataframe tbody tr th:only-of-type {\n",
       "        vertical-align: middle;\n",
       "    }\n",
       "\n",
       "    .dataframe tbody tr th {\n",
       "        vertical-align: top;\n",
       "    }\n",
       "\n",
       "    .dataframe thead th {\n",
       "        text-align: right;\n",
       "    }\n",
       "</style>\n",
       "<table border=\"1\" class=\"dataframe\">\n",
       "  <thead>\n",
       "    <tr style=\"text-align: right;\">\n",
       "      <th></th>\n",
       "      <th>count</th>\n",
       "      <th>unique</th>\n",
       "      <th>top</th>\n",
       "      <th>freq</th>\n",
       "    </tr>\n",
       "  </thead>\n",
       "  <tbody>\n",
       "    <tr>\n",
       "      <th>Offer_Accepted</th>\n",
       "      <td>18000</td>\n",
       "      <td>2</td>\n",
       "      <td>No</td>\n",
       "      <td>16977</td>\n",
       "    </tr>\n",
       "    <tr>\n",
       "      <th>Reward</th>\n",
       "      <td>18000</td>\n",
       "      <td>3</td>\n",
       "      <td>Air Miles</td>\n",
       "      <td>6061</td>\n",
       "    </tr>\n",
       "    <tr>\n",
       "      <th>Mailer_Type</th>\n",
       "      <td>18000</td>\n",
       "      <td>2</td>\n",
       "      <td>Postcard</td>\n",
       "      <td>9147</td>\n",
       "    </tr>\n",
       "    <tr>\n",
       "      <th>Income_Level</th>\n",
       "      <td>18000</td>\n",
       "      <td>3</td>\n",
       "      <td>Medium</td>\n",
       "      <td>9013</td>\n",
       "    </tr>\n",
       "    <tr>\n",
       "      <th>Overdraft_Protection</th>\n",
       "      <td>18000</td>\n",
       "      <td>2</td>\n",
       "      <td>No</td>\n",
       "      <td>15322</td>\n",
       "    </tr>\n",
       "    <tr>\n",
       "      <th>Credit_Rating</th>\n",
       "      <td>18000</td>\n",
       "      <td>3</td>\n",
       "      <td>High</td>\n",
       "      <td>6071</td>\n",
       "    </tr>\n",
       "    <tr>\n",
       "      <th>Own_Your_Home</th>\n",
       "      <td>18000</td>\n",
       "      <td>2</td>\n",
       "      <td>Yes</td>\n",
       "      <td>11655</td>\n",
       "    </tr>\n",
       "  </tbody>\n",
       "</table>\n",
       "</div>"
      ],
      "text/plain": [
       "                      count unique        top   freq\n",
       "Offer_Accepted        18000      2         No  16977\n",
       "Reward                18000      3  Air Miles   6061\n",
       "Mailer_Type           18000      2   Postcard   9147\n",
       "Income_Level          18000      3     Medium   9013\n",
       "Overdraft_Protection  18000      2         No  15322\n",
       "Credit_Rating         18000      3       High   6071\n",
       "Own_Your_Home         18000      2        Yes  11655"
      ]
     },
     "execution_count": 256,
     "metadata": {},
     "output_type": "execute_result"
    }
   ],
   "source": [
    "df.select_dtypes(include = \"object\").describe().T"
   ]
  },
  {
   "attachments": {},
   "cell_type": "markdown",
   "metadata": {},
   "source": [
    "#### Variables sin orden:"
   ]
  },
  {
   "attachments": {},
   "cell_type": "markdown",
   "metadata": {},
   "source": [
    "Vamos a considerar variables sin orden por tener diferencias mínimas: Reward, Mailer_Type y Credit_Rating"
   ]
  },
  {
   "cell_type": "code",
   "execution_count": 257,
   "metadata": {},
   "outputs": [],
   "source": [
    "df = sp.Encoding(df).dummies_encoding( [\"Reward\", \"Mailer_Type\",\"Credit_Rating\"])"
   ]
  },
  {
   "cell_type": "code",
   "execution_count": 258,
   "metadata": {},
   "outputs": [],
   "source": [
    "df_sin_outliers = sp.Encoding(df_sin_outliers).dummies_encoding( [\"Reward\", \"Mailer_Type\",\"Credit_Rating\"])"
   ]
  },
  {
   "attachments": {},
   "cell_type": "markdown",
   "metadata": {},
   "source": [
    "#### Variables con orden:"
   ]
  },
  {
   "attachments": {},
   "cell_type": "markdown",
   "metadata": {},
   "source": [
    "Las variables no encodeadas anteriormente son aquellas con orden. Definiremos el orden apoyándonos en el EDA y en los siguientes datos:"
   ]
  },
  {
   "cell_type": "code",
   "execution_count": 259,
   "metadata": {},
   "outputs": [
    {
     "data": {
      "text/html": [
       "<div>\n",
       "<style scoped>\n",
       "    .dataframe tbody tr th:only-of-type {\n",
       "        vertical-align: middle;\n",
       "    }\n",
       "\n",
       "    .dataframe tbody tr th {\n",
       "        vertical-align: top;\n",
       "    }\n",
       "\n",
       "    .dataframe thead th {\n",
       "        text-align: right;\n",
       "    }\n",
       "</style>\n",
       "<table border=\"1\" class=\"dataframe\">\n",
       "  <thead>\n",
       "    <tr style=\"text-align: right;\">\n",
       "      <th></th>\n",
       "      <th>count</th>\n",
       "      <th>unique</th>\n",
       "      <th>top</th>\n",
       "      <th>freq</th>\n",
       "    </tr>\n",
       "  </thead>\n",
       "  <tbody>\n",
       "    <tr>\n",
       "      <th>Offer_Accepted</th>\n",
       "      <td>18000</td>\n",
       "      <td>2</td>\n",
       "      <td>No</td>\n",
       "      <td>16977</td>\n",
       "    </tr>\n",
       "    <tr>\n",
       "      <th>Income_Level</th>\n",
       "      <td>18000</td>\n",
       "      <td>3</td>\n",
       "      <td>Medium</td>\n",
       "      <td>9013</td>\n",
       "    </tr>\n",
       "    <tr>\n",
       "      <th>Overdraft_Protection</th>\n",
       "      <td>18000</td>\n",
       "      <td>2</td>\n",
       "      <td>No</td>\n",
       "      <td>15322</td>\n",
       "    </tr>\n",
       "    <tr>\n",
       "      <th>Own_Your_Home</th>\n",
       "      <td>18000</td>\n",
       "      <td>2</td>\n",
       "      <td>Yes</td>\n",
       "      <td>11655</td>\n",
       "    </tr>\n",
       "  </tbody>\n",
       "</table>\n",
       "</div>"
      ],
      "text/plain": [
       "                      count unique     top   freq\n",
       "Offer_Accepted        18000      2      No  16977\n",
       "Income_Level          18000      3  Medium   9013\n",
       "Overdraft_Protection  18000      2      No  15322\n",
       "Own_Your_Home         18000      2     Yes  11655"
      ]
     },
     "execution_count": 259,
     "metadata": {},
     "output_type": "execute_result"
    }
   ],
   "source": [
    "df.select_dtypes(include = \"object\").describe().T"
   ]
  },
  {
   "cell_type": "code",
   "execution_count": 260,
   "metadata": {},
   "outputs": [
    {
     "name": "stdout",
     "output_type": "stream",
     "text": [
      "% valores columna: Offer_Accepted\n",
      "No     94.32\n",
      "Yes     5.68\n",
      "Name: Offer_Accepted, dtype: float64\n",
      " \n",
      "% valores columna: Income_Level\n",
      "Medium    50.07\n",
      "High      25.14\n",
      "Low       24.78\n",
      "Name: Income_Level, dtype: float64\n",
      " \n",
      "% valores columna: Overdraft_Protection\n",
      "No     85.12\n",
      "Yes    14.88\n",
      "Name: Overdraft_Protection, dtype: float64\n",
      " \n",
      "% valores columna: Own_Your_Home\n",
      "Yes    64.75\n",
      "No     35.25\n",
      "Name: Own_Your_Home, dtype: float64\n",
      " \n"
     ]
    }
   ],
   "source": [
    "sp.Encoding(df).porcentajes_variables_nonum( [\"Offer_Accepted\", \"Income_Level\",\"Overdraft_Protection\",\"Own_Your_Home\" ])"
   ]
  },
  {
   "attachments": {},
   "cell_type": "markdown",
   "metadata": {},
   "source": [
    "#### DF:"
   ]
  },
  {
   "cell_type": "code",
   "execution_count": 261,
   "metadata": {},
   "outputs": [],
   "source": [
    "# Offer_Accepted\n",
    "orden = ['No', 'Yes']\n",
    "\n",
    "df = sp.Encoding(df).ordinal_encoder( \"Offer_Accepted\", orden)"
   ]
  },
  {
   "cell_type": "code",
   "execution_count": 262,
   "metadata": {},
   "outputs": [],
   "source": [
    "# Income_Level\n",
    "orden = ['Medium', 'High', \"Low\"]\n",
    "\n",
    "df = sp.Encoding(df).ordinal_encoder( \"Income_Level\", orden)"
   ]
  },
  {
   "cell_type": "code",
   "execution_count": 263,
   "metadata": {},
   "outputs": [],
   "source": [
    "# Overdraft_Protection\n",
    "orden = ['No', 'Yes']\n",
    "\n",
    "df = sp.Encoding(df).ordinal_encoder( \"Overdraft_Protection\", orden)"
   ]
  },
  {
   "cell_type": "code",
   "execution_count": 264,
   "metadata": {},
   "outputs": [],
   "source": [
    "# Own_Your_Home\n",
    "orden = ['Yes', 'No']\n",
    "\n",
    "df = sp.Encoding(df).ordinal_encoder( \"Own_Your_Home\", orden)"
   ]
  },
  {
   "cell_type": "code",
   "execution_count": 265,
   "metadata": {},
   "outputs": [],
   "source": [
    "df = df.drop(['Offer_Accepted', 'Income_Level', 'Overdraft_Protection','Own_Your_Home'], axis=1)\n"
   ]
  },
  {
   "attachments": {},
   "cell_type": "markdown",
   "metadata": {},
   "source": [
    "#### DF SIN OUTLIERS"
   ]
  },
  {
   "attachments": {},
   "cell_type": "markdown",
   "metadata": {},
   "source": [
    "No me ha dado tiempo a hacer todas las pruebas con los 2 df, más adelante pruebo con df sin outliers y comparo. Para esta entrega seleccionaré df, ya que sólo había eliminado 10 valores del conjunto total."
   ]
  },
  {
   "attachments": {},
   "cell_type": "markdown",
   "metadata": {},
   "source": [
    "### 4. Estandarización"
   ]
  },
  {
   "cell_type": "code",
   "execution_count": 266,
   "metadata": {},
   "outputs": [],
   "source": [
    "df_est= df.copy()"
   ]
  },
  {
   "cell_type": "code",
   "execution_count": 267,
   "metadata": {},
   "outputs": [],
   "source": [
    "columnas_num= ['Average_Balance_Q1', 'Average_Balance_Q2', 'Average_Balance_Q3', 'Average_Balance_Q4', 'Balance']\n",
    "\n",
    "robust = RobustScaler()\n",
    "robust.fit(df[columnas_num])\n",
    "X_robust = robust.transform(df[columnas_num])\n",
    "df_est[columnas_num] = X_robust\n"
   ]
  },
  {
   "cell_type": "code",
   "execution_count": 268,
   "metadata": {},
   "outputs": [
    {
     "data": {
      "text/html": [
       "<div>\n",
       "<style scoped>\n",
       "    .dataframe tbody tr th:only-of-type {\n",
       "        vertical-align: middle;\n",
       "    }\n",
       "\n",
       "    .dataframe tbody tr th {\n",
       "        vertical-align: top;\n",
       "    }\n",
       "\n",
       "    .dataframe thead th {\n",
       "        text-align: right;\n",
       "    }\n",
       "</style>\n",
       "<table border=\"1\" class=\"dataframe\">\n",
       "  <thead>\n",
       "    <tr style=\"text-align: right;\">\n",
       "      <th></th>\n",
       "      <th>Customer_Number</th>\n",
       "      <th>Bank_Accounts_Open</th>\n",
       "      <th>Credit_Cards_Held</th>\n",
       "      <th>Homes_Owned</th>\n",
       "      <th>Household_Size</th>\n",
       "      <th>Average_Balance_Q1</th>\n",
       "      <th>Average_Balance_Q2</th>\n",
       "      <th>Average_Balance_Q3</th>\n",
       "      <th>Average_Balance_Q4</th>\n",
       "      <th>Balance</th>\n",
       "      <th>Reward_Air Miles</th>\n",
       "      <th>Reward_Cash Back</th>\n",
       "      <th>Reward_Points</th>\n",
       "      <th>Mailer_Type_Letter</th>\n",
       "      <th>Mailer_Type_Postcard</th>\n",
       "      <th>Credit_Rating_High</th>\n",
       "      <th>Credit_Rating_Low</th>\n",
       "      <th>Credit_Rating_Medium</th>\n",
       "      <th>Offer_Accepted_oe</th>\n",
       "      <th>Income_Level_oe</th>\n",
       "      <th>Overdraft_Protection_oe</th>\n",
       "      <th>Own_Your_Home_oe</th>\n",
       "    </tr>\n",
       "  </thead>\n",
       "  <tbody>\n",
       "    <tr>\n",
       "      <th>0</th>\n",
       "      <td>1.0</td>\n",
       "      <td>1.0</td>\n",
       "      <td>2.0</td>\n",
       "      <td>1.0</td>\n",
       "      <td>4.0</td>\n",
       "      <td>0.423037</td>\n",
       "      <td>0.794855</td>\n",
       "      <td>-0.228614</td>\n",
       "      <td>0.179735</td>\n",
       "      <td>0.351726</td>\n",
       "      <td>1</td>\n",
       "      <td>0</td>\n",
       "      <td>0</td>\n",
       "      <td>1</td>\n",
       "      <td>0</td>\n",
       "      <td>1</td>\n",
       "      <td>0</td>\n",
       "      <td>0</td>\n",
       "      <td>0</td>\n",
       "      <td>1</td>\n",
       "      <td>0</td>\n",
       "      <td>1</td>\n",
       "    </tr>\n",
       "    <tr>\n",
       "      <th>1</th>\n",
       "      <td>2.0</td>\n",
       "      <td>1.0</td>\n",
       "      <td>2.0</td>\n",
       "      <td>2.0</td>\n",
       "      <td>5.0</td>\n",
       "      <td>-2.356531</td>\n",
       "      <td>-0.651142</td>\n",
       "      <td>-1.365782</td>\n",
       "      <td>-1.047045</td>\n",
       "      <td>-0.398938</td>\n",
       "      <td>1</td>\n",
       "      <td>0</td>\n",
       "      <td>0</td>\n",
       "      <td>1</td>\n",
       "      <td>0</td>\n",
       "      <td>0</td>\n",
       "      <td>0</td>\n",
       "      <td>1</td>\n",
       "      <td>0</td>\n",
       "      <td>0</td>\n",
       "      <td>0</td>\n",
       "      <td>0</td>\n",
       "    </tr>\n",
       "    <tr>\n",
       "      <th>2</th>\n",
       "      <td>3.0</td>\n",
       "      <td>2.0</td>\n",
       "      <td>2.0</td>\n",
       "      <td>1.0</td>\n",
       "      <td>2.0</td>\n",
       "      <td>-2.002057</td>\n",
       "      <td>-0.360169</td>\n",
       "      <td>-1.002950</td>\n",
       "      <td>-0.966224</td>\n",
       "      <td>-0.545294</td>\n",
       "      <td>1</td>\n",
       "      <td>0</td>\n",
       "      <td>0</td>\n",
       "      <td>0</td>\n",
       "      <td>1</td>\n",
       "      <td>0</td>\n",
       "      <td>0</td>\n",
       "      <td>1</td>\n",
       "      <td>0</td>\n",
       "      <td>1</td>\n",
       "      <td>0</td>\n",
       "      <td>0</td>\n",
       "    </tr>\n",
       "    <tr>\n",
       "      <th>3</th>\n",
       "      <td>4.0</td>\n",
       "      <td>2.0</td>\n",
       "      <td>1.0</td>\n",
       "      <td>1.0</td>\n",
       "      <td>4.0</td>\n",
       "      <td>0.582791</td>\n",
       "      <td>0.714127</td>\n",
       "      <td>1.073746</td>\n",
       "      <td>0.208685</td>\n",
       "      <td>-0.336382</td>\n",
       "      <td>1</td>\n",
       "      <td>0</td>\n",
       "      <td>0</td>\n",
       "      <td>1</td>\n",
       "      <td>0</td>\n",
       "      <td>1</td>\n",
       "      <td>0</td>\n",
       "      <td>0</td>\n",
       "      <td>0</td>\n",
       "      <td>0</td>\n",
       "      <td>0</td>\n",
       "      <td>1</td>\n",
       "    </tr>\n",
       "    <tr>\n",
       "      <th>4</th>\n",
       "      <td>5.0</td>\n",
       "      <td>1.0</td>\n",
       "      <td>2.0</td>\n",
       "      <td>1.0</td>\n",
       "      <td>6.0</td>\n",
       "      <td>0.560850</td>\n",
       "      <td>1.212686</td>\n",
       "      <td>0.479351</td>\n",
       "      <td>0.043426</td>\n",
       "      <td>-0.400118</td>\n",
       "      <td>1</td>\n",
       "      <td>0</td>\n",
       "      <td>0</td>\n",
       "      <td>1</td>\n",
       "      <td>0</td>\n",
       "      <td>0</td>\n",
       "      <td>0</td>\n",
       "      <td>1</td>\n",
       "      <td>0</td>\n",
       "      <td>0</td>\n",
       "      <td>0</td>\n",
       "      <td>0</td>\n",
       "    </tr>\n",
       "  </tbody>\n",
       "</table>\n",
       "</div>"
      ],
      "text/plain": [
       "   Customer_Number  Bank_Accounts_Open  Credit_Cards_Held  Homes_Owned  \\\n",
       "0              1.0                 1.0                2.0          1.0   \n",
       "1              2.0                 1.0                2.0          2.0   \n",
       "2              3.0                 2.0                2.0          1.0   \n",
       "3              4.0                 2.0                1.0          1.0   \n",
       "4              5.0                 1.0                2.0          1.0   \n",
       "\n",
       "   Household_Size  Average_Balance_Q1  Average_Balance_Q2  Average_Balance_Q3  \\\n",
       "0             4.0            0.423037            0.794855           -0.228614   \n",
       "1             5.0           -2.356531           -0.651142           -1.365782   \n",
       "2             2.0           -2.002057           -0.360169           -1.002950   \n",
       "3             4.0            0.582791            0.714127            1.073746   \n",
       "4             6.0            0.560850            1.212686            0.479351   \n",
       "\n",
       "   Average_Balance_Q4   Balance  Reward_Air Miles  Reward_Cash Back  \\\n",
       "0            0.179735  0.351726                 1                 0   \n",
       "1           -1.047045 -0.398938                 1                 0   \n",
       "2           -0.966224 -0.545294                 1                 0   \n",
       "3            0.208685 -0.336382                 1                 0   \n",
       "4            0.043426 -0.400118                 1                 0   \n",
       "\n",
       "   Reward_Points  Mailer_Type_Letter  Mailer_Type_Postcard  \\\n",
       "0              0                   1                     0   \n",
       "1              0                   1                     0   \n",
       "2              0                   0                     1   \n",
       "3              0                   1                     0   \n",
       "4              0                   1                     0   \n",
       "\n",
       "   Credit_Rating_High  Credit_Rating_Low  Credit_Rating_Medium  \\\n",
       "0                   1                  0                     0   \n",
       "1                   0                  0                     1   \n",
       "2                   0                  0                     1   \n",
       "3                   1                  0                     0   \n",
       "4                   0                  0                     1   \n",
       "\n",
       "   Offer_Accepted_oe  Income_Level_oe  Overdraft_Protection_oe  \\\n",
       "0                  0                1                        0   \n",
       "1                  0                0                        0   \n",
       "2                  0                1                        0   \n",
       "3                  0                0                        0   \n",
       "4                  0                0                        0   \n",
       "\n",
       "   Own_Your_Home_oe  \n",
       "0                 1  \n",
       "1                 0  \n",
       "2                 0  \n",
       "3                 1  \n",
       "4                 0  "
      ]
     },
     "execution_count": 268,
     "metadata": {},
     "output_type": "execute_result"
    }
   ],
   "source": [
    "df_est.head()"
   ]
  },
  {
   "attachments": {},
   "cell_type": "markdown",
   "metadata": {},
   "source": [
    "### 5. Balanceo de variables"
   ]
  },
  {
   "attachments": {},
   "cell_type": "markdown",
   "metadata": {},
   "source": [
    "Como hemos visto en el EDA, existe un gran desbalanceo en nuestra variable respuesta. En este caso vamos a utilizar el método upsampling para corregir el desajuste."
   ]
  },
  {
   "cell_type": "code",
   "execution_count": 269,
   "metadata": {},
   "outputs": [],
   "source": [
    "X = df_est.drop(\"Offer_Accepted_oe\", axis=1)\n",
    "y = df_est[\"Offer_Accepted_oe\"]"
   ]
  },
  {
   "cell_type": "code",
   "execution_count": 270,
   "metadata": {},
   "outputs": [
    {
     "data": {
      "text/plain": [
       "0    16977\n",
       "1    16977\n",
       "Name: Offer_Accepted_oe, dtype: int64"
      ]
     },
     "execution_count": 270,
     "metadata": {},
     "output_type": "execute_result"
    }
   ],
   "source": [
    "upp = RandomOverSampler()\n",
    "X_upp, y_upp = upp.fit_resample(X, y)\n",
    "y_upp.value_counts()"
   ]
  },
  {
   "cell_type": "code",
   "execution_count": 271,
   "metadata": {},
   "outputs": [],
   "source": [
    "df_upsampled = pd.concat([X_upp, y_upp], axis = 1)"
   ]
  },
  {
   "cell_type": "code",
   "execution_count": 272,
   "metadata": {},
   "outputs": [
    {
     "data": {
      "text/plain": [
       "0    16977\n",
       "1    16977\n",
       "Name: Offer_Accepted_oe, dtype: int64"
      ]
     },
     "execution_count": 272,
     "metadata": {},
     "output_type": "execute_result"
    }
   ],
   "source": [
    "df_upsampled[\"Offer_Accepted_oe\"].value_counts()"
   ]
  },
  {
   "attachments": {},
   "cell_type": "markdown",
   "metadata": {},
   "source": [
    "### 6. Ajuste de modelo"
   ]
  },
  {
   "cell_type": "code",
   "execution_count": 273,
   "metadata": {},
   "outputs": [],
   "source": [
    "X = df_upsampled.drop('Offer_Accepted_oe', axis =1)\n",
    "y = df_upsampled['Offer_Accepted_oe']\n",
    "\n",
    "X_train, X_test, y_train, y_test = train_test_split(X, y, train_size   = 0.8, random_state = 42)"
   ]
  },
  {
   "attachments": {},
   "cell_type": "markdown",
   "metadata": {},
   "source": [
    "#### Regresión logística"
   ]
  },
  {
   "cell_type": "code",
   "execution_count": 274,
   "metadata": {},
   "outputs": [
    {
     "data": {
      "text/plain": [
       "LogisticRegression(max_iter=100000)"
      ]
     },
     "execution_count": 274,
     "metadata": {},
     "output_type": "execute_result"
    }
   ],
   "source": [
    "lr = LogisticRegression(max_iter = 100000)\n",
    "lr.fit(X_train, y_train)"
   ]
  },
  {
   "cell_type": "code",
   "execution_count": 275,
   "metadata": {},
   "outputs": [],
   "source": [
    "y_pred_lr_test = lr.predict(X_test)\n",
    "y_pred_lr_train = lr.predict(X_train)"
   ]
  },
  {
   "cell_type": "code",
   "execution_count": 276,
   "metadata": {},
   "outputs": [],
   "source": [
    "def matriz_confusion(clases_reales, clases_predichas, total_filas_test):\n",
    "  \n",
    "    matriz = confusion_matrix(clases_reales, clases_predichas)\n",
    "\n",
    "    plt.figure(figsize = (7, 5))\n",
    "    sns.heatmap(matriz, square=True, annot=True, fmt=\"d\", cmap = \"viridis\")\n",
    "\n",
    "    plt.xlabel('valor predicho')\n",
    "    plt.ylabel('valor real')\n",
    "    plt.show()"
   ]
  },
  {
   "cell_type": "code",
   "execution_count": 277,
   "metadata": {},
   "outputs": [
    {
     "data": {
      "image/png": "[encoded data removed]",
      "text/plain": [
       "<Figure size 504x360 with 2 Axes>"
      ]
     },
     "metadata": {
      "needs_background": "light"
     },
     "output_type": "display_data"
    }
   ],
   "source": [
    "matriz_logistica = matriz_confusion(y_test, y_pred_lr_test, y_test.shape[0])\n",
    "matriz_logistica"
   ]
  },
  {
   "cell_type": "code",
   "execution_count": 278,
   "metadata": {},
   "outputs": [],
   "source": [
    "def metricas(clases_reales_test, clases_predichas_test, clases_reales_train, clases_predichas_train, modelo):\n",
    "    \n",
    "    # para el test\n",
    "    accuracy_test = accuracy_score(clases_reales_test, clases_predichas_test)\n",
    "    precision_test = precision_score(clases_reales_test, clases_predichas_test)\n",
    "    recall_test = recall_score(clases_reales_test, clases_predichas_test)\n",
    "    f1_test = f1_score(clases_reales_test, clases_predichas_test)\n",
    "    kappa_test = cohen_kappa_score(clases_reales_test, clases_predichas_test)\n",
    "\n",
    "    # para el train\n",
    "    accuracy_train = accuracy_score(clases_reales_train, clases_predichas_train)\n",
    "    precision_train = precision_score(clases_reales_train, clases_predichas_train)\n",
    "    recall_train = recall_score(clases_reales_train, clases_predichas_train)\n",
    "    f1_train = f1_score(clases_reales_train, clases_predichas_train)\n",
    "    kappa_train = cohen_kappa_score(clases_reales_train, clases_predichas_train)\n",
    "    \n",
    "\n",
    "    \n",
    "    df = pd.DataFrame({\"accuracy\": [accuracy_test, accuracy_train], \n",
    "                       \"precision\": [precision_test, precision_train],\n",
    "                       \"recall\": [recall_test, recall_train], \n",
    "                       \"f1\": [f1_test, f1_train],\n",
    "                       \"kapppa\": [kappa_test, kappa_train],\n",
    "                       \"set\": [\"test\", \"train\"]})\n",
    "    \n",
    "    df[\"modelo\"] = modelo\n",
    "    return df"
   ]
  },
  {
   "cell_type": "code",
   "execution_count": 279,
   "metadata": {},
   "outputs": [
    {
     "data": {
      "text/html": [
       "<div>\n",
       "<style scoped>\n",
       "    .dataframe tbody tr th:only-of-type {\n",
       "        vertical-align: middle;\n",
       "    }\n",
       "\n",
       "    .dataframe tbody tr th {\n",
       "        vertical-align: top;\n",
       "    }\n",
       "\n",
       "    .dataframe thead th {\n",
       "        text-align: right;\n",
       "    }\n",
       "</style>\n",
       "<table border=\"1\" class=\"dataframe\">\n",
       "  <thead>\n",
       "    <tr style=\"text-align: right;\">\n",
       "      <th></th>\n",
       "      <th>accuracy</th>\n",
       "      <th>precision</th>\n",
       "      <th>recall</th>\n",
       "      <th>f1</th>\n",
       "      <th>kapppa</th>\n",
       "      <th>set</th>\n",
       "      <th>modelo</th>\n",
       "    </tr>\n",
       "  </thead>\n",
       "  <tbody>\n",
       "    <tr>\n",
       "      <th>0</th>\n",
       "      <td>0.676484</td>\n",
       "      <td>0.675590</td>\n",
       "      <td>0.686860</td>\n",
       "      <td>0.681178</td>\n",
       "      <td>0.352872</td>\n",
       "      <td>test</td>\n",
       "      <td>Regresión logistica</td>\n",
       "    </tr>\n",
       "    <tr>\n",
       "      <th>1</th>\n",
       "      <td>0.670949</td>\n",
       "      <td>0.664134</td>\n",
       "      <td>0.689602</td>\n",
       "      <td>0.676628</td>\n",
       "      <td>0.341937</td>\n",
       "      <td>train</td>\n",
       "      <td>Regresión logistica</td>\n",
       "    </tr>\n",
       "  </tbody>\n",
       "</table>\n",
       "</div>"
      ],
      "text/plain": [
       "   accuracy  precision    recall        f1    kapppa    set  \\\n",
       "0  0.676484   0.675590  0.686860  0.681178  0.352872   test   \n",
       "1  0.670949   0.664134  0.689602  0.676628  0.341937  train   \n",
       "\n",
       "                modelo  \n",
       "0  Regresión logistica  \n",
       "1  Regresión logistica  "
      ]
     },
     "execution_count": 279,
     "metadata": {},
     "output_type": "execute_result"
    }
   ],
   "source": [
    "results_logistic = metricas(y_test, y_pred_lr_test, y_train, y_pred_lr_train, \"Regresión logistica\")\n",
    "results_logistic"
   ]
  },
  {
   "attachments": {},
   "cell_type": "markdown",
   "metadata": {},
   "source": [
    "Lo que más llama la atención de este resultado es que tiene un kappa muy bajo, lo que quiere decir que nuesto modelo es muy probablemente que esté acertando por puro azar."
   ]
  },
  {
   "attachments": {},
   "cell_type": "markdown",
   "metadata": {},
   "source": [
    "#### Decision Tree Classifier"
   ]
  },
  {
   "cell_type": "code",
   "execution_count": 280,
   "metadata": {},
   "outputs": [
    {
     "data": {
      "text/plain": [
       "DecisionTreeClassifier()"
      ]
     },
     "execution_count": 280,
     "metadata": {},
     "output_type": "execute_result"
    }
   ],
   "source": [
    "arbol = DecisionTreeClassifier()\n",
    "arbol.fit(X_train, y_train)"
   ]
  },
  {
   "cell_type": "code",
   "execution_count": 281,
   "metadata": {},
   "outputs": [
    {
     "data": {
      "text/plain": [
       "4.58257569495584"
      ]
     },
     "execution_count": 281,
     "metadata": {},
     "output_type": "execute_result"
    }
   ],
   "source": [
    "max_features = np.sqrt(len(X_train.columns))\n",
    "max_features"
   ]
  },
  {
   "cell_type": "code",
   "execution_count": 282,
   "metadata": {},
   "outputs": [],
   "source": [
    "y_pred_train_dt = arbol.predict(X_train)\n",
    "y_pred_test_dt = arbol.predict(X_test)"
   ]
  },
  {
   "cell_type": "code",
   "execution_count": 283,
   "metadata": {},
   "outputs": [
    {
     "data": {
      "text/html": [
       "<div>\n",
       "<style scoped>\n",
       "    .dataframe tbody tr th:only-of-type {\n",
       "        vertical-align: middle;\n",
       "    }\n",
       "\n",
       "    .dataframe tbody tr th {\n",
       "        vertical-align: top;\n",
       "    }\n",
       "\n",
       "    .dataframe thead th {\n",
       "        text-align: right;\n",
       "    }\n",
       "</style>\n",
       "<table border=\"1\" class=\"dataframe\">\n",
       "  <thead>\n",
       "    <tr style=\"text-align: right;\">\n",
       "      <th></th>\n",
       "      <th>accuracy</th>\n",
       "      <th>precision</th>\n",
       "      <th>recall</th>\n",
       "      <th>f1</th>\n",
       "      <th>kapppa</th>\n",
       "      <th>set</th>\n",
       "      <th>modelo</th>\n",
       "    </tr>\n",
       "  </thead>\n",
       "  <tbody>\n",
       "    <tr>\n",
       "      <th>0</th>\n",
       "      <td>0.964512</td>\n",
       "      <td>0.934117</td>\n",
       "      <td>1.0</td>\n",
       "      <td>0.965936</td>\n",
       "      <td>0.928989</td>\n",
       "      <td>test</td>\n",
       "      <td>Decission Tree I</td>\n",
       "    </tr>\n",
       "    <tr>\n",
       "      <th>1</th>\n",
       "      <td>1.000000</td>\n",
       "      <td>1.000000</td>\n",
       "      <td>1.0</td>\n",
       "      <td>1.000000</td>\n",
       "      <td>1.000000</td>\n",
       "      <td>train</td>\n",
       "      <td>Decission Tree I</td>\n",
       "    </tr>\n",
       "  </tbody>\n",
       "</table>\n",
       "</div>"
      ],
      "text/plain": [
       "   accuracy  precision  recall        f1    kapppa    set            modelo\n",
       "0  0.964512   0.934117     1.0  0.965936  0.928989   test  Decission Tree I\n",
       "1  1.000000   1.000000     1.0  1.000000  1.000000  train  Decission Tree I"
      ]
     },
     "execution_count": 283,
     "metadata": {},
     "output_type": "execute_result"
    }
   ],
   "source": [
    "results_decission_tree1 = metricas(y_test, y_pred_test_dt,y_train, y_pred_train_dt, \"Decission Tree I\" )\n",
    "results_decission_tree1"
   ]
  },
  {
   "attachments": {},
   "cell_type": "markdown",
   "metadata": {},
   "source": [
    "Los valores de este árbol indican con gran probabilidad overfitting."
   ]
  },
  {
   "cell_type": "code",
   "execution_count": 284,
   "metadata": {},
   "outputs": [
    {
     "name": "stdout",
     "output_type": "stream",
     "text": [
      "38\n"
     ]
    }
   ],
   "source": [
    "print(arbol.tree_.max_depth)"
   ]
  },
  {
   "cell_type": "code",
   "execution_count": null,
   "metadata": {},
   "outputs": [],
   "source": [
    "depht_list=list(range(1,39))\n",
    "\n",
    "param = {\"max_depth\": depht_list,\n",
    "        \"min_samples_split\": [50,100,150,200],\n",
    "        \"min_samples_leaf\": [25,50,75,100,125,150],\n",
    "        \"max_features\": [1,2,3,4,5]}\n",
    "\n",
    "gs = GridSearchCV(\n",
    "            estimator=DecisionTreeClassifier(),\n",
    "            param_grid= param,\n",
    "            cv=10,\n",
    "            verbose=0,\n",
    "            n_jobs = -1,\n",
    "            return_train_score = True,\n",
    "            scoring=\"neg_mean_squared_error\")"
   ]
  },
  {
   "cell_type": "code",
   "execution_count": null,
   "metadata": {},
   "outputs": [
    {
     "data": {
      "text/plain": [
       "GridSearchCV(cv=10, estimator=DecisionTreeClassifier(), n_jobs=-1,\n",
       "             param_grid={'max_depth': [1, 2, 3, 4, 5, 6, 7, 8, 9, 10, 11, 12,\n",
       "                                       13, 14, 15, 16, 17, 18, 19, 20, 21, 22,\n",
       "                                       23, 24, 25, 26, 27, 28, 29, 30, ...],\n",
       "                         'max_features': [1, 2, 3, 4, 5],\n",
       "                         'min_samples_leaf': [75, 100, 125, 150, 175, 200, 225,\n",
       "                                              250, 275],\n",
       "                         'min_samples_split': [100, 150, 200, 250, 300, 350]},\n",
       "             return_train_score=True, scoring='neg_mean_squared_error')"
      ]
     },
     "execution_count": 289,
     "metadata": {},
     "output_type": "execute_result"
    }
   ],
   "source": [
    "gs.fit(X_train, y_train)"
   ]
  },
  {
   "cell_type": "code",
   "execution_count": null,
   "metadata": {},
   "outputs": [
    {
     "data": {
      "text/plain": [
       "DecisionTreeClassifier(max_depth=22, max_features=5, min_samples_leaf=75,\n",
       "                       min_samples_split=100)"
      ]
     },
     "execution_count": 290,
     "metadata": {},
     "output_type": "execute_result"
    }
   ],
   "source": [
    "best_tree = gs.best_estimator_\n",
    "best_tree"
   ]
  },
  {
   "cell_type": "code",
   "execution_count": null,
   "metadata": {},
   "outputs": [],
   "source": [
    "y_pred_test_dt2 = best_tree.predict(X_test)\n",
    "y_pred_train_dt2 = best_tree.predict(X_train)"
   ]
  },
  {
   "cell_type": "code",
   "execution_count": null,
   "metadata": {},
   "outputs": [
    {
     "data": {
      "text/html": [
       "<div>\n",
       "<style scoped>\n",
       "    .dataframe tbody tr th:only-of-type {\n",
       "        vertical-align: middle;\n",
       "    }\n",
       "\n",
       "    .dataframe tbody tr th {\n",
       "        vertical-align: top;\n",
       "    }\n",
       "\n",
       "    .dataframe thead th {\n",
       "        text-align: right;\n",
       "    }\n",
       "</style>\n",
       "<table border=\"1\" class=\"dataframe\">\n",
       "  <thead>\n",
       "    <tr style=\"text-align: right;\">\n",
       "      <th></th>\n",
       "      <th>accuracy</th>\n",
       "      <th>precision</th>\n",
       "      <th>recall</th>\n",
       "      <th>f1</th>\n",
       "      <th>kapppa</th>\n",
       "      <th>set</th>\n",
       "      <th>modelo</th>\n",
       "    </tr>\n",
       "  </thead>\n",
       "  <tbody>\n",
       "    <tr>\n",
       "      <th>0</th>\n",
       "      <td>0.746135</td>\n",
       "      <td>0.719927</td>\n",
       "      <td>0.810945</td>\n",
       "      <td>0.762731</td>\n",
       "      <td>0.491839</td>\n",
       "      <td>test</td>\n",
       "      <td>Decission Tree II</td>\n",
       "    </tr>\n",
       "    <tr>\n",
       "      <th>1</th>\n",
       "      <td>0.759010</td>\n",
       "      <td>0.730179</td>\n",
       "      <td>0.820428</td>\n",
       "      <td>0.772677</td>\n",
       "      <td>0.518114</td>\n",
       "      <td>train</td>\n",
       "      <td>Decission Tree II</td>\n",
       "    </tr>\n",
       "  </tbody>\n",
       "</table>\n",
       "</div>"
      ],
      "text/plain": [
       "   accuracy  precision    recall        f1    kapppa    set             modelo\n",
       "0  0.746135   0.719927  0.810945  0.762731  0.491839   test  Decission Tree II\n",
       "1  0.759010   0.730179  0.820428  0.772677  0.518114  train  Decission Tree II"
      ]
     },
     "execution_count": 292,
     "metadata": {},
     "output_type": "execute_result"
    }
   ],
   "source": [
    "results_decission_tree2 = metricas(y_test, y_pred_test_dt2,y_train, y_pred_train_dt2, \"Decission Tree II\" )\n",
    "results_decission_tree2"
   ]
  },
  {
   "attachments": {},
   "cell_type": "markdown",
   "metadata": {},
   "source": [
    "### Random Forest"
   ]
  },
  {
   "cell_type": "code",
   "execution_count": 293,
   "metadata": {},
   "outputs": [],
   "source": [
    "bosque = GridSearchCV(\n",
    "            estimator=RandomForestClassifier(),\n",
    "            param_grid= param,\n",
    "            cv=10,\n",
    "            verbose=0,\n",
    "            n_jobs = -1,\n",
    "            return_train_score = True,\n",
    "            scoring=\"neg_mean_squared_error\")"
   ]
  },
  {
   "cell_type": "code",
   "execution_count": null,
   "metadata": {},
   "outputs": [],
   "source": [
    "bosque.fit(X_train, y_train)"
   ]
  },
  {
   "attachments": {},
   "cell_type": "markdown",
   "metadata": {},
   "source": [
    "en este punto se queda pillado el código y no funciona"
   ]
  },
  {
   "cell_type": "code",
   "execution_count": null,
   "metadata": {},
   "outputs": [],
   "source": [
    "bosque.best_params_"
   ]
  }
 ],
 "metadata": {
  "kernelspec": {
   "display_name": "Python 3",
   "language": "python",
   "name": "python3"
  },
  "language_info": {
   "codemirror_mode": {
    "name": "ipython",
    "version": 3
   },
   "file_extension": ".py",
   "mimetype": "text/x-python",
   "name": "python",
   "nbconvert_exporter": "python",
   "pygments_lexer": "ipython3",
   "version": "3.9.12"
  },
  "orig_nbformat": 4
 },
 "nbformat": 4,
 "nbformat_minor": 2
}
